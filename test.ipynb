{
 "metadata": {
  "language_info": {
   "codemirror_mode": {
    "name": "ipython",
    "version": 3
   },
   "file_extension": ".py",
   "mimetype": "text/x-python",
   "name": "python",
   "nbconvert_exporter": "python",
   "pygments_lexer": "ipython3",
   "version": 3
  },
  "orig_nbformat": 2
 },
 "nbformat": 4,
 "nbformat_minor": 2,
 "cells": [
  {
   "source": [
    "# Github Notebook preview does not open image redirection\n",
    "\n",
    "## html href img\n",
    "\n",
    "<a href=\"https://google.com\">\n",
    "    <img src=\"https://avatars.githubusercontent.com/u/45666866?v=4\"/>\n",
    "</a>\n",
    "\n",
    "## html href text\n",
    "\n",
    "<a href=\"https://google.com\">\n",
    "    Hello World !\n",
    "</a>\n",
    "\n",
    "## Markdown redirection img\n",
    "\n",
    "[![redirect](https://avatars.githubusercontent.com/u/45666866?v=4)](https://google.com)\n",
    "\n",
    "## Markdown redirection text\n",
    "\n",
    "[Hello World !](https://google.com)"
   ],
   "cell_type": "markdown",
   "metadata": {}
  }
 ]
}