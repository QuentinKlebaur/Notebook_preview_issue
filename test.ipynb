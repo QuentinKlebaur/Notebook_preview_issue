{
 "metadata": {
  "language_info": {
   "codemirror_mode": {
    "name": "ipython",
    "version": 3
   },
   "file_extension": ".py",
   "mimetype": "text/x-python",
   "name": "python",
   "nbconvert_exporter": "python",
   "pygments_lexer": "ipython3",
   "version": 3
  },
  "orig_nbformat": 2
 },
 "nbformat": 4,
 "nbformat_minor": 2,
 "cells": [
  {
   "source": [
    "# Github Notebook preview does not open image redirection\n",
    "\n",
    "## html href img\n",
    "\n",
    "<a href=\"https://google.com\">\n",
    "    <img src=\"https://github.com/QuentinKlebaur.png\"/>\n",
    "</a>\n",
    "\n",
    "## html href text\n",
    "\n",
    "<a href=\"https://google.com\">\n",
    "    Hello World !\n",
    "</a>\n",
    "\n",
    "## html href target _blank img\n",
    "\n",
    "<a href=\"https://google.com\" target=\"_blank\">\n",
    "    <img src=\"https://github.com/QuentinKlebaur.png\"/>\n",
    "</a>\n",
    "\n",
    "## html href target _blank text\n",
    "\n",
    "<a href=\"https://google.com\" target=\"_blank\">\n",
    "    Hello World !\n",
    "</a>\n",
    "\n",
    "## html href target _parent img\n",
    "\n",
    "<a href=\"https://google.com\" target=\"_parent\">\n",
    "    <img src=\"https://github.com/QuentinKlebaur.png\"/>\n",
    "</a>\n",
    "\n",
    "## html href target _parent text\n",
    "\n",
    "<a href=\"https://google.com\" target=\"_parent\">\n",
    "    Hello World !\n",
    "</a>\n",
    "\n",
    "## Markdown redirection img\n",
    "\n",
    "[![redirect](https://github.com/QuentinKlebaur.png)](https://google.com)\n",
    "\n",
    "## Markdown redirection text\n",
    "\n",
    "[Hello World !](https://google.com)"
   ],
   "cell_type": "markdown",
   "metadata": {}
  }
 ]
}